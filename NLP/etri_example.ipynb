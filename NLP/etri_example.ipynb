{
 "cells": [
  {
   "cell_type": "code",
   "execution_count": null,
   "metadata": {},
   "outputs": [],
   "source": [
    "import etri_nlp\n",
    "import pprint\n",
    "\n",
    "text = \"전국 곳곳에서 목표로 했던 5천여 명에 대한 접종이 이뤄지고 있는 가운데 서울 지역 보건소에서는 대부분 접종 일정을 마쳤습니다.\"\n",
    "\n",
    "etri = etri_nlp.Etri_nlp()\n",
    "\n",
    "morphs = etri.get_parsed_json(text)\n",
    "\n",
    "\n",
    "pp = pprint.PrettyPrinter(indent=4)\n",
    "pp.pprint(morphs['sentence'][0]['NE'])\n",
    "\n",
    "#print(morphs)"
   ]
  }
 ],
 "metadata": {
  "kernelspec": {
   "display_name": "Python 3",
   "language": "python",
   "name": "python3"
  },
  "language_info": {
   "codemirror_mode": {
    "name": "ipython",
    "version": 3
   },
   "file_extension": ".py",
   "mimetype": "text/x-python",
   "name": "python",
   "nbconvert_exporter": "python",
   "pygments_lexer": "ipython3",
   "version": "3.7.7"
  }
 },
 "nbformat": 4,
 "nbformat_minor": 4
}
