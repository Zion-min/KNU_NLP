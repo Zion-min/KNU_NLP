{
 "cells": [
  {
   "cell_type": "code",
   "execution_count": 15,
   "metadata": {},
   "outputs": [
    {
     "ename": "ModuleNotFoundError",
     "evalue": "No module named 'spacy'",
     "output_type": "error",
     "traceback": [
      "\u001b[0;31m---------------------------------------------------------------------------\u001b[0m",
      "\u001b[0;31mModuleNotFoundError\u001b[0m                       Traceback (most recent call last)",
      "\u001b[0;32m<ipython-input-15-682db771eca8>\u001b[0m in \u001b[0;36m<module>\u001b[0;34m\u001b[0m\n\u001b[0;32m----> 1\u001b[0;31m \u001b[0;32mimport\u001b[0m \u001b[0mspacy\u001b[0m\u001b[0;34m\u001b[0m\u001b[0;34m\u001b[0m\u001b[0m\n\u001b[0m\u001b[1;32m      2\u001b[0m \u001b[0;32mimport\u001b[0m \u001b[0mjson\u001b[0m\u001b[0;34m\u001b[0m\u001b[0;34m\u001b[0m\u001b[0m\n\u001b[1;32m      3\u001b[0m \u001b[0;34m\u001b[0m\u001b[0m\n\u001b[1;32m      4\u001b[0m \u001b[0;34m\u001b[0m\u001b[0m\n\u001b[1;32m      5\u001b[0m \u001b[0;34m\u001b[0m\u001b[0m\n",
      "\u001b[0;31mModuleNotFoundError\u001b[0m: No module named 'spacy'"
     ]
    }
   ],
   "source": [
    "import spacy\n",
    "import json\n",
    "\n",
    "\n",
    "\n",
    "def create_dic(text):\n",
    "   \n",
    "   #미리 만들어둔 형태소 분석 클래스에 문장 넣고 분석된 정보 받아오기\n",
    "    analed_text = nlp(text)\n",
    "    morph_seperated = []\n",
    "\n",
    "   #분석된 문장에서 형태소 단위로 리스트에 담기\n",
    "    for morph in analed_text:\n",
    "        morph_seperated.append(str(morph.text))\n",
    "\n",
    "   #엔티티(개체명)을 담을 리스트\n",
    "    ents = []\n",
    "\n",
    "   #개체명들이 있는 리스트를 하나씩 읽어서 새로 저장\n",
    "    for ent in analed_text.ents:\n",
    "        ents.append(str(ent))\n",
    "   \n",
    "   #엔티티가 마스킹된 텍스트 담을 리스트\n",
    "    masked_texts = []\n",
    "\n",
    "    #엔티티 찾아서 [MASK]로 replace 하기\n",
    "    for ent in ents:\n",
    "        masked_texts.append(str(text.replace(str(ent), \"[MASK]\")))\n",
    "\n",
    "   #최종적으로 리턴해줄 딕셔너리형 data 변수 선언\n",
    "    data = dict()\n",
    "    data[\"original\"] = text\n",
    "    data[\"morphs\"] = morph_seperated\n",
    "    data[\"entity\"] = ents\n",
    "    data[\"masked\"] = masked_texts\n",
    "    \n",
    "    return data\n",
    "\n",
    "if __name__ == \"__main__\":\n",
    "\n",
    "\n",
    "    f = open(\"data.txt\",\"r\")\n",
    "\n",
    "   #몇번째 문장인지 표시\n",
    "    text_num = 0\n",
    "    text = f.readline()\n",
    "\n",
    "   #형태소분석을 위한 클래스 가져오기\n",
    "    nlp = spacy.load(\"en_core_web_sm\")\n",
    "\n",
    "   #최종 데이터\n",
    "    data = dict()\n",
    "\n",
    "   #텍스트파일 끝까지 읽는 반복문\n",
    "    while text:\n",
    "        func_return = create_dic(text)\n",
    "        data[str(text_num)] = func_return\n",
    "        text_num+=1\n",
    "        text = f.readline()\n",
    "\n",
    "    print(data)\n",
    "   \n",
    "   #json 파일 만들어서 저장하기\n",
    "    with open(\"data.json\",\"w+\",encoding=\"utf-8\") as j:\n",
    "        json.dump(data, j, indent=\"\\t\")\n",
    "\n",
    "   #저장된 json파일 불러오기\n",
    "    with open(\"data.json\",\"r\") as j:\n",
    "        json_data = json.load(j)\n",
    "\n",
    "   #불러온 json 파일 불러오기\n",
    "    print(json.dumps(json_data,indent=\"\\t\"))\n",
    "                     "
   ]
  },
  {
   "cell_type": "code",
   "execution_count": null,
   "metadata": {},
   "outputs": [],
   "source": []
  }
 ],
 "metadata": {
  "kernelspec": {
   "display_name": "Python 3",
   "language": "python",
   "name": "python3"
  },
  "language_info": {
   "codemirror_mode": {
    "name": "ipython",
    "version": 3
   },
   "file_extension": ".py",
   "mimetype": "text/x-python",
   "name": "python",
   "nbconvert_exporter": "python",
   "pygments_lexer": "ipython3",
   "version": "3.7.7"
  }
 },
 "nbformat": 4,
 "nbformat_minor": 4
}
